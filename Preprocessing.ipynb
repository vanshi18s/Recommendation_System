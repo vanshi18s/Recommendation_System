{
 "cells": [
  {
   "cell_type": "code",
   "execution_count": 17,
   "id": "f23654a4-ce20-4fbb-ac74-271cdbce3ca3",
   "metadata": {},
   "outputs": [],
   "source": [
    "import pandas as pd\n",
    "import numpy as np"
   ]
  },
  {
   "cell_type": "code",
   "execution_count": 18,
   "id": "bb7c34d2-c71e-4e9b-afc1-2e71f32c55de",
   "metadata": {},
   "outputs": [],
   "source": [
    "df1 = pd.read_csv('Dataset_original.csv')"
   ]
  },
  {
   "cell_type": "code",
   "execution_count": 19,
   "id": "ed0ec65b-bc3e-4772-a6d2-b3134f1f9686",
   "metadata": {},
   "outputs": [
    {
     "data": {
      "text/html": [
       "<div>\n",
       "<style scoped>\n",
       "    .dataframe tbody tr th:only-of-type {\n",
       "        vertical-align: middle;\n",
       "    }\n",
       "\n",
       "    .dataframe tbody tr th {\n",
       "        vertical-align: top;\n",
       "    }\n",
       "\n",
       "    .dataframe thead th {\n",
       "        text-align: right;\n",
       "    }\n",
       "</style>\n",
       "<table border=\"1\" class=\"dataframe\">\n",
       "  <thead>\n",
       "    <tr style=\"text-align: right;\">\n",
       "      <th></th>\n",
       "      <th>user_id</th>\n",
       "      <th>date</th>\n",
       "      <th>app_name</th>\n",
       "      <th>category</th>\n",
       "      <th>screen_time_min</th>\n",
       "      <th>launches</th>\n",
       "      <th>interactions</th>\n",
       "      <th>is_productive</th>\n",
       "      <th>youtube_views</th>\n",
       "      <th>youtube_likes</th>\n",
       "      <th>youtube_comments</th>\n",
       "    </tr>\n",
       "  </thead>\n",
       "  <tbody>\n",
       "    <tr>\n",
       "      <th>0</th>\n",
       "      <td>1051</td>\n",
       "      <td>00:00.0</td>\n",
       "      <td>Camera</td>\n",
       "      <td>Utilities</td>\n",
       "      <td>24.53</td>\n",
       "      <td>2.0</td>\n",
       "      <td>7.0</td>\n",
       "      <td>False</td>\n",
       "      <td>NaN</td>\n",
       "      <td>NaN</td>\n",
       "      <td>NaN</td>\n",
       "    </tr>\n",
       "    <tr>\n",
       "      <th>1</th>\n",
       "      <td>1088</td>\n",
       "      <td>43:41.7</td>\n",
       "      <td>Chrome</td>\n",
       "      <td>Utilities</td>\n",
       "      <td>19.78</td>\n",
       "      <td>3.0</td>\n",
       "      <td>2.0</td>\n",
       "      <td>False</td>\n",
       "      <td>NaN</td>\n",
       "      <td>NaN</td>\n",
       "      <td>NaN</td>\n",
       "    </tr>\n",
       "    <tr>\n",
       "      <th>2</th>\n",
       "      <td>1052</td>\n",
       "      <td>27:23.3</td>\n",
       "      <td>Spotify</td>\n",
       "      <td>Entertainment</td>\n",
       "      <td>32.03</td>\n",
       "      <td>1.0</td>\n",
       "      <td>6.0</td>\n",
       "      <td>False</td>\n",
       "      <td>NaN</td>\n",
       "      <td>NaN</td>\n",
       "      <td>NaN</td>\n",
       "    </tr>\n",
       "    <tr>\n",
       "      <th>3</th>\n",
       "      <td>1028</td>\n",
       "      <td>11:05.0</td>\n",
       "      <td>Google Maps</td>\n",
       "      <td>Utilities</td>\n",
       "      <td>19.10</td>\n",
       "      <td>2.0</td>\n",
       "      <td>5.0</td>\n",
       "      <td>False</td>\n",
       "      <td>NaN</td>\n",
       "      <td>NaN</td>\n",
       "      <td>NaN</td>\n",
       "    </tr>\n",
       "    <tr>\n",
       "      <th>4</th>\n",
       "      <td>1034</td>\n",
       "      <td>54:46.7</td>\n",
       "      <td>Instagram</td>\n",
       "      <td>Social</td>\n",
       "      <td>25.19</td>\n",
       "      <td>1.0</td>\n",
       "      <td>5.0</td>\n",
       "      <td>False</td>\n",
       "      <td>NaN</td>\n",
       "      <td>NaN</td>\n",
       "      <td>NaN</td>\n",
       "    </tr>\n",
       "  </tbody>\n",
       "</table>\n",
       "</div>"
      ],
      "text/plain": [
       "   user_id     date     app_name       category  screen_time_min  launches  \\\n",
       "0     1051  00:00.0       Camera      Utilities            24.53       2.0   \n",
       "1     1088  43:41.7       Chrome      Utilities            19.78       3.0   \n",
       "2     1052  27:23.3      Spotify  Entertainment            32.03       1.0   \n",
       "3     1028  11:05.0  Google Maps      Utilities            19.10       2.0   \n",
       "4     1034  54:46.7    Instagram         Social            25.19       1.0   \n",
       "\n",
       "   interactions  is_productive  youtube_views  youtube_likes  youtube_comments  \n",
       "0           7.0          False            NaN            NaN               NaN  \n",
       "1           2.0          False            NaN            NaN               NaN  \n",
       "2           6.0          False            NaN            NaN               NaN  \n",
       "3           5.0          False            NaN            NaN               NaN  \n",
       "4           5.0          False            NaN            NaN               NaN  "
      ]
     },
     "execution_count": 19,
     "metadata": {},
     "output_type": "execute_result"
    }
   ],
   "source": [
    "df1.head()"
   ]
  },
  {
   "cell_type": "code",
   "execution_count": 20,
   "id": "6142c6c3-4f55-4dbd-9f56-9bd36cc00743",
   "metadata": {},
   "outputs": [
    {
     "data": {
      "text/html": [
       "<div>\n",
       "<style scoped>\n",
       "    .dataframe tbody tr th:only-of-type {\n",
       "        vertical-align: middle;\n",
       "    }\n",
       "\n",
       "    .dataframe tbody tr th {\n",
       "        vertical-align: top;\n",
       "    }\n",
       "\n",
       "    .dataframe thead th {\n",
       "        text-align: right;\n",
       "    }\n",
       "</style>\n",
       "<table border=\"1\" class=\"dataframe\">\n",
       "  <thead>\n",
       "    <tr style=\"text-align: right;\">\n",
       "      <th></th>\n",
       "      <th>user_id</th>\n",
       "      <th>date</th>\n",
       "      <th>app_name</th>\n",
       "      <th>category</th>\n",
       "      <th>screen_time_min</th>\n",
       "      <th>launches</th>\n",
       "      <th>interactions</th>\n",
       "      <th>is_productive</th>\n",
       "      <th>youtube_views</th>\n",
       "      <th>youtube_likes</th>\n",
       "      <th>youtube_comments</th>\n",
       "    </tr>\n",
       "  </thead>\n",
       "  <tbody>\n",
       "    <tr>\n",
       "      <th>2995</th>\n",
       "      <td>1086</td>\n",
       "      <td>05:13.3</td>\n",
       "      <td>Camera</td>\n",
       "      <td>Utilities</td>\n",
       "      <td>9.91</td>\n",
       "      <td>2.0</td>\n",
       "      <td>3.0</td>\n",
       "      <td>False</td>\n",
       "      <td>NaN</td>\n",
       "      <td>NaN</td>\n",
       "      <td>NaN</td>\n",
       "    </tr>\n",
       "    <tr>\n",
       "      <th>2996</th>\n",
       "      <td>1068</td>\n",
       "      <td>48:54.9</td>\n",
       "      <td>Netflix</td>\n",
       "      <td>Entertainment</td>\n",
       "      <td>3.40</td>\n",
       "      <td>4.0</td>\n",
       "      <td>2.0</td>\n",
       "      <td>False</td>\n",
       "      <td>NaN</td>\n",
       "      <td>NaN</td>\n",
       "      <td>NaN</td>\n",
       "    </tr>\n",
       "    <tr>\n",
       "      <th>2997</th>\n",
       "      <td>1081</td>\n",
       "      <td>32:36.7</td>\n",
       "      <td>Microsoft Teams</td>\n",
       "      <td>Productivity</td>\n",
       "      <td>17.18</td>\n",
       "      <td>2.0</td>\n",
       "      <td>6.0</td>\n",
       "      <td>True</td>\n",
       "      <td>NaN</td>\n",
       "      <td>NaN</td>\n",
       "      <td>NaN</td>\n",
       "    </tr>\n",
       "    <tr>\n",
       "      <th>2998</th>\n",
       "      <td>1038</td>\n",
       "      <td>16:18.3</td>\n",
       "      <td>WhatsApp</td>\n",
       "      <td>Social</td>\n",
       "      <td>149.72</td>\n",
       "      <td>3.0</td>\n",
       "      <td>5.0</td>\n",
       "      <td>False</td>\n",
       "      <td>NaN</td>\n",
       "      <td>NaN</td>\n",
       "      <td>NaN</td>\n",
       "    </tr>\n",
       "    <tr>\n",
       "      <th>2999</th>\n",
       "      <td>1089</td>\n",
       "      <td>00:00.0</td>\n",
       "      <td>Gmail</td>\n",
       "      <td>Utilities</td>\n",
       "      <td>18.50</td>\n",
       "      <td>1.0</td>\n",
       "      <td>2.0</td>\n",
       "      <td>False</td>\n",
       "      <td>NaN</td>\n",
       "      <td>NaN</td>\n",
       "      <td>NaN</td>\n",
       "    </tr>\n",
       "  </tbody>\n",
       "</table>\n",
       "</div>"
      ],
      "text/plain": [
       "      user_id     date         app_name       category  screen_time_min  \\\n",
       "2995     1086  05:13.3           Camera      Utilities             9.91   \n",
       "2996     1068  48:54.9          Netflix  Entertainment             3.40   \n",
       "2997     1081  32:36.7  Microsoft Teams   Productivity            17.18   \n",
       "2998     1038  16:18.3         WhatsApp         Social           149.72   \n",
       "2999     1089  00:00.0            Gmail      Utilities            18.50   \n",
       "\n",
       "      launches  interactions  is_productive  youtube_views  youtube_likes  \\\n",
       "2995       2.0           3.0          False            NaN            NaN   \n",
       "2996       4.0           2.0          False            NaN            NaN   \n",
       "2997       2.0           6.0           True            NaN            NaN   \n",
       "2998       3.0           5.0          False            NaN            NaN   \n",
       "2999       1.0           2.0          False            NaN            NaN   \n",
       "\n",
       "      youtube_comments  \n",
       "2995               NaN  \n",
       "2996               NaN  \n",
       "2997               NaN  \n",
       "2998               NaN  \n",
       "2999               NaN  "
      ]
     },
     "execution_count": 20,
     "metadata": {},
     "output_type": "execute_result"
    }
   ],
   "source": [
    "df1.tail()"
   ]
  },
  {
   "cell_type": "code",
   "execution_count": 21,
   "id": "3249a23d-30ca-4fb9-9589-ea28255c2a45",
   "metadata": {},
   "outputs": [
    {
     "data": {
      "text/html": [
       "<div>\n",
       "<style scoped>\n",
       "    .dataframe tbody tr th:only-of-type {\n",
       "        vertical-align: middle;\n",
       "    }\n",
       "\n",
       "    .dataframe tbody tr th {\n",
       "        vertical-align: top;\n",
       "    }\n",
       "\n",
       "    .dataframe thead th {\n",
       "        text-align: right;\n",
       "    }\n",
       "</style>\n",
       "<table border=\"1\" class=\"dataframe\">\n",
       "  <thead>\n",
       "    <tr style=\"text-align: right;\">\n",
       "      <th></th>\n",
       "      <th>user_id</th>\n",
       "      <th>screen_time_min</th>\n",
       "      <th>launches</th>\n",
       "      <th>interactions</th>\n",
       "      <th>youtube_views</th>\n",
       "      <th>youtube_likes</th>\n",
       "      <th>youtube_comments</th>\n",
       "    </tr>\n",
       "  </thead>\n",
       "  <tbody>\n",
       "    <tr>\n",
       "      <th>count</th>\n",
       "      <td>3000.000000</td>\n",
       "      <td>2980.000000</td>\n",
       "      <td>2990.000000</td>\n",
       "      <td>2988.000000</td>\n",
       "      <td>142.000000</td>\n",
       "      <td>142.000000</td>\n",
       "      <td>142.000000</td>\n",
       "    </tr>\n",
       "    <tr>\n",
       "      <th>mean</th>\n",
       "      <td>1049.800667</td>\n",
       "      <td>29.910393</td>\n",
       "      <td>1.994649</td>\n",
       "      <td>4.963855</td>\n",
       "      <td>256577.183099</td>\n",
       "      <td>14645.267606</td>\n",
       "      <td>2695.563380</td>\n",
       "    </tr>\n",
       "    <tr>\n",
       "      <th>std</th>\n",
       "      <td>29.406369</td>\n",
       "      <td>30.576984</td>\n",
       "      <td>1.404232</td>\n",
       "      <td>2.223689</td>\n",
       "      <td>135872.940749</td>\n",
       "      <td>10511.930022</td>\n",
       "      <td>2147.688995</td>\n",
       "    </tr>\n",
       "    <tr>\n",
       "      <th>min</th>\n",
       "      <td>1000.000000</td>\n",
       "      <td>0.010000</td>\n",
       "      <td>0.000000</td>\n",
       "      <td>0.000000</td>\n",
       "      <td>1738.000000</td>\n",
       "      <td>69.000000</td>\n",
       "      <td>8.000000</td>\n",
       "    </tr>\n",
       "    <tr>\n",
       "      <th>25%</th>\n",
       "      <td>1024.000000</td>\n",
       "      <td>8.665000</td>\n",
       "      <td>1.000000</td>\n",
       "      <td>3.000000</td>\n",
       "      <td>141490.000000</td>\n",
       "      <td>6548.250000</td>\n",
       "      <td>957.750000</td>\n",
       "    </tr>\n",
       "    <tr>\n",
       "      <th>50%</th>\n",
       "      <td>1049.000000</td>\n",
       "      <td>20.605000</td>\n",
       "      <td>2.000000</td>\n",
       "      <td>5.000000</td>\n",
       "      <td>249747.000000</td>\n",
       "      <td>12928.500000</td>\n",
       "      <td>2325.500000</td>\n",
       "    </tr>\n",
       "    <tr>\n",
       "      <th>75%</th>\n",
       "      <td>1076.000000</td>\n",
       "      <td>40.437500</td>\n",
       "      <td>3.000000</td>\n",
       "      <td>6.000000</td>\n",
       "      <td>364498.000000</td>\n",
       "      <td>19929.000000</td>\n",
       "      <td>3671.500000</td>\n",
       "    </tr>\n",
       "    <tr>\n",
       "      <th>max</th>\n",
       "      <td>1100.000000</td>\n",
       "      <td>218.390000</td>\n",
       "      <td>9.000000</td>\n",
       "      <td>13.000000</td>\n",
       "      <td>494839.000000</td>\n",
       "      <td>43893.000000</td>\n",
       "      <td>8934.000000</td>\n",
       "    </tr>\n",
       "  </tbody>\n",
       "</table>\n",
       "</div>"
      ],
      "text/plain": [
       "           user_id  screen_time_min     launches  interactions  youtube_views  \\\n",
       "count  3000.000000      2980.000000  2990.000000   2988.000000     142.000000   \n",
       "mean   1049.800667        29.910393     1.994649      4.963855  256577.183099   \n",
       "std      29.406369        30.576984     1.404232      2.223689  135872.940749   \n",
       "min    1000.000000         0.010000     0.000000      0.000000    1738.000000   \n",
       "25%    1024.000000         8.665000     1.000000      3.000000  141490.000000   \n",
       "50%    1049.000000        20.605000     2.000000      5.000000  249747.000000   \n",
       "75%    1076.000000        40.437500     3.000000      6.000000  364498.000000   \n",
       "max    1100.000000       218.390000     9.000000     13.000000  494839.000000   \n",
       "\n",
       "       youtube_likes  youtube_comments  \n",
       "count     142.000000        142.000000  \n",
       "mean    14645.267606       2695.563380  \n",
       "std     10511.930022       2147.688995  \n",
       "min        69.000000          8.000000  \n",
       "25%      6548.250000        957.750000  \n",
       "50%     12928.500000       2325.500000  \n",
       "75%     19929.000000       3671.500000  \n",
       "max     43893.000000       8934.000000  "
      ]
     },
     "execution_count": 21,
     "metadata": {},
     "output_type": "execute_result"
    }
   ],
   "source": [
    "df1.describe()"
   ]
  },
  {
   "cell_type": "code",
   "execution_count": 22,
   "id": "b17c877c-2555-4e15-9bd0-1f0583ec8387",
   "metadata": {},
   "outputs": [],
   "source": [
    "df = df1.copy()"
   ]
  },
  {
   "cell_type": "code",
   "execution_count": 23,
   "id": "54674bfa-31b4-4649-b9df-2a9ed63f78d9",
   "metadata": {},
   "outputs": [
    {
     "data": {
      "text/plain": [
       "user_id                0\n",
       "date                   0\n",
       "app_name               0\n",
       "category               0\n",
       "screen_time_min       20\n",
       "launches              10\n",
       "interactions          12\n",
       "is_productive          0\n",
       "youtube_views       2858\n",
       "youtube_likes       2858\n",
       "youtube_comments    2858\n",
       "dtype: int64"
      ]
     },
     "execution_count": 23,
     "metadata": {},
     "output_type": "execute_result"
    }
   ],
   "source": [
    "df.isnull().sum()"
   ]
  },
  {
   "cell_type": "code",
   "execution_count": 24,
   "id": "ed26f3b2-ccf6-4589-a40c-a98e09ef393f",
   "metadata": {},
   "outputs": [],
   "source": [
    "df['screen_time_min']=df['screen_time_min'].fillna(df['screen_time_min'].mean())"
   ]
  },
  {
   "cell_type": "code",
   "execution_count": 25,
   "id": "ecde4930-7466-4f2e-aa8d-da661c054ab1",
   "metadata": {},
   "outputs": [],
   "source": [
    "df.drop(['date'],axis=1, inplace=True)"
   ]
  },
  {
   "cell_type": "code",
   "execution_count": 26,
   "id": "f4fc5f7a-242d-49a0-a96c-42d4d16b18ff",
   "metadata": {},
   "outputs": [
    {
     "name": "stdout",
     "output_type": "stream",
     "text": [
      "2.0\n"
     ]
    }
   ],
   "source": [
    "most_f1=df['launches'].mode()[0]\n",
    "print(most_f1)"
   ]
  },
  {
   "cell_type": "code",
   "execution_count": 28,
   "id": "4956cb1f-18c6-4cc2-99f5-f50de1487560",
   "metadata": {},
   "outputs": [],
   "source": [
    "df['launches']=df['launches'].fillna(most_f1)"
   ]
  },
  {
   "cell_type": "code",
   "execution_count": 29,
   "id": "d5e7d4ab-938f-43f1-b856-90785a168ed5",
   "metadata": {},
   "outputs": [
    {
     "data": {
      "text/plain": [
       "user_id                0\n",
       "app_name               0\n",
       "category               0\n",
       "screen_time_min        0\n",
       "launches               0\n",
       "interactions          12\n",
       "is_productive          0\n",
       "youtube_views       2858\n",
       "youtube_likes       2858\n",
       "youtube_comments    2858\n",
       "dtype: int64"
      ]
     },
     "execution_count": 29,
     "metadata": {},
     "output_type": "execute_result"
    }
   ],
   "source": [
    "df.isnull().sum()"
   ]
  },
  {
   "cell_type": "code",
   "execution_count": 30,
   "id": "e595ae12-58e4-47b1-99bc-446cf649de1a",
   "metadata": {},
   "outputs": [
    {
     "name": "stdout",
     "output_type": "stream",
     "text": [
      "5.0\n"
     ]
    }
   ],
   "source": [
    "most_f2=df['interactions'].mode()[0]\n",
    "print(most_f2)"
   ]
  },
  {
   "cell_type": "code",
   "execution_count": 31,
   "id": "59f7f642-aa39-49f9-9ee1-fcbc42bbaef9",
   "metadata": {},
   "outputs": [],
   "source": [
    "df['interactions']=df['interactions'].fillna(most_f2)"
   ]
  },
  {
   "cell_type": "code",
   "execution_count": 32,
   "id": "ab37b222-7a90-451b-9b12-77734f787c38",
   "metadata": {},
   "outputs": [],
   "source": [
    "# As youtube likes, views and comments have most NaN values we will drop those columns.\n",
    "df.drop(['youtube_views','youtube_likes','youtube_comments'],axis=1,inplace=True)"
   ]
  },
  {
   "cell_type": "code",
   "execution_count": 33,
   "id": "fb860092-e968-4daa-8da1-73a040f5ff92",
   "metadata": {},
   "outputs": [
    {
     "data": {
      "text/html": [
       "<div>\n",
       "<style scoped>\n",
       "    .dataframe tbody tr th:only-of-type {\n",
       "        vertical-align: middle;\n",
       "    }\n",
       "\n",
       "    .dataframe tbody tr th {\n",
       "        vertical-align: top;\n",
       "    }\n",
       "\n",
       "    .dataframe thead th {\n",
       "        text-align: right;\n",
       "    }\n",
       "</style>\n",
       "<table border=\"1\" class=\"dataframe\">\n",
       "  <thead>\n",
       "    <tr style=\"text-align: right;\">\n",
       "      <th></th>\n",
       "      <th>user_id</th>\n",
       "      <th>app_name</th>\n",
       "      <th>category</th>\n",
       "      <th>screen_time_min</th>\n",
       "      <th>launches</th>\n",
       "      <th>interactions</th>\n",
       "      <th>is_productive</th>\n",
       "    </tr>\n",
       "  </thead>\n",
       "  <tbody>\n",
       "    <tr>\n",
       "      <th>0</th>\n",
       "      <td>1051</td>\n",
       "      <td>Camera</td>\n",
       "      <td>Utilities</td>\n",
       "      <td>24.53</td>\n",
       "      <td>2.0</td>\n",
       "      <td>7.0</td>\n",
       "      <td>False</td>\n",
       "    </tr>\n",
       "    <tr>\n",
       "      <th>1</th>\n",
       "      <td>1088</td>\n",
       "      <td>Chrome</td>\n",
       "      <td>Utilities</td>\n",
       "      <td>19.78</td>\n",
       "      <td>3.0</td>\n",
       "      <td>2.0</td>\n",
       "      <td>False</td>\n",
       "    </tr>\n",
       "    <tr>\n",
       "      <th>2</th>\n",
       "      <td>1052</td>\n",
       "      <td>Spotify</td>\n",
       "      <td>Entertainment</td>\n",
       "      <td>32.03</td>\n",
       "      <td>1.0</td>\n",
       "      <td>6.0</td>\n",
       "      <td>False</td>\n",
       "    </tr>\n",
       "    <tr>\n",
       "      <th>3</th>\n",
       "      <td>1028</td>\n",
       "      <td>Google Maps</td>\n",
       "      <td>Utilities</td>\n",
       "      <td>19.10</td>\n",
       "      <td>2.0</td>\n",
       "      <td>5.0</td>\n",
       "      <td>False</td>\n",
       "    </tr>\n",
       "    <tr>\n",
       "      <th>4</th>\n",
       "      <td>1034</td>\n",
       "      <td>Instagram</td>\n",
       "      <td>Social</td>\n",
       "      <td>25.19</td>\n",
       "      <td>1.0</td>\n",
       "      <td>5.0</td>\n",
       "      <td>False</td>\n",
       "    </tr>\n",
       "  </tbody>\n",
       "</table>\n",
       "</div>"
      ],
      "text/plain": [
       "   user_id     app_name       category  screen_time_min  launches  \\\n",
       "0     1051       Camera      Utilities            24.53       2.0   \n",
       "1     1088       Chrome      Utilities            19.78       3.0   \n",
       "2     1052      Spotify  Entertainment            32.03       1.0   \n",
       "3     1028  Google Maps      Utilities            19.10       2.0   \n",
       "4     1034    Instagram         Social            25.19       1.0   \n",
       "\n",
       "   interactions  is_productive  \n",
       "0           7.0          False  \n",
       "1           2.0          False  \n",
       "2           6.0          False  \n",
       "3           5.0          False  \n",
       "4           5.0          False  "
      ]
     },
     "execution_count": 33,
     "metadata": {},
     "output_type": "execute_result"
    }
   ],
   "source": [
    "#cleaned dataset\n",
    "df.head()"
   ]
  },
  {
   "cell_type": "code",
   "execution_count": 34,
   "id": "3b5aea2a-bfbf-4449-b64b-4219b8b7f59d",
   "metadata": {},
   "outputs": [
    {
     "data": {
      "text/plain": [
       "(3000, 7)"
      ]
     },
     "execution_count": 34,
     "metadata": {},
     "output_type": "execute_result"
    }
   ],
   "source": [
    "df.shape"
   ]
  }
 ],
 "metadata": {
  "kernelspec": {
   "display_name": "Python 3 (ipykernel)",
   "language": "python",
   "name": "python3"
  },
  "language_info": {
   "codemirror_mode": {
    "name": "ipython",
    "version": 3
   },
   "file_extension": ".py",
   "mimetype": "text/x-python",
   "name": "python",
   "nbconvert_exporter": "python",
   "pygments_lexer": "ipython3",
   "version": "3.12.7"
  }
 },
 "nbformat": 4,
 "nbformat_minor": 5
}
